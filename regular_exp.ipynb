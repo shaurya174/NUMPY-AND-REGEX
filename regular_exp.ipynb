{
  "metadata": {
    "kernelspec": {
      "name": "python",
      "display_name": "Python (Pyodide)",
      "language": "python"
    },
    "language_info": {
      "codemirror_mode": {
        "name": "python",
        "version": 3
      },
      "file_extension": ".py",
      "mimetype": "text/x-python",
      "name": "python",
      "nbconvert_exporter": "python",
      "pygments_lexer": "ipython3",
      "version": "3.8"
    }
  },
  "nbformat_minor": 4,
  "nbformat": 4,
  "cells": [
    {
      "cell_type": "markdown",
      "source": "In this lecture, we’ll learn about using regular expressions (regex) for pattern matching in strings. Regex is a tool that allows you to search for patterns in text. It’s useful for:\ni)Checking if a pattern exists in data.\nii)Extracting all instances of a pattern from data.\niii)Cleaning data by splitting strings.\nRegex is a key skill for data cleaning in data science, as it helps manipulate text efficiently. By the end of the lecture, you’ll understand how to create and use regex patterns for matching and processing text.",
      "metadata": {}
    },
    {
      "cell_type": "code",
      "source": "#Import re library in which python stores regex.\nimport re",
      "metadata": {
        "trusted": true
      },
      "outputs": [],
      "execution_count": 3
    },
    {
      "cell_type": "markdown",
      "source": "Main Processing Functions -> match() check for match at beginning of string  and search() check at anywhere and return a boolean.",
      "metadata": {}
    },
    {
      "cell_type": "code",
      "source": "# First argument is pattern and second is given string.\n#Try changing my and 18 to someting else\ndeclaration = \"My age is 18\"\nif re.match(\"My\",declaration):\n    print(\"You have given your age\")\nelse:\n    print(\"You have not given your details\")",
      "metadata": {
        "trusted": true
      },
      "outputs": [
        {
          "name": "stdout",
          "text": "You have given your age\n",
          "output_type": "stream"
        }
      ],
      "execution_count": 4
    },
    {
      "cell_type": "code",
      "source": "if re.search(\"18\",declaration):\n    print(\"Your age is 18\")\nelse:\n    print(\"Please edit declaration\")",
      "metadata": {
        "trusted": true
      },
      "outputs": [
        {
          "name": "stdout",
          "text": "Your age is 18\n",
          "output_type": "stream"
        }
      ],
      "execution_count": 5
    },
    {
      "cell_type": "markdown",
      "source": "In addition to checking for conditionals, we can segment a string. The work that regex does here is called tokenizing, where this string is separated into substrings based on patterns. Tokenizing is a core activity in natural language processing which we won't talk much about here but you'll study in the future. The Findall and Split functions will parse the string for us and return chunks.",
      "metadata": {}
    },
    {
      "cell_type": "code",
      "source": "to_text = \"The cat sat on the mat with another cat.\"#Search for all instances and 0<word>1<word>\n#We get a array of strings.\nprint(re.split(\"cat\",to_text))",
      "metadata": {
        "trusted": true
      },
      "outputs": [
        {
          "name": "stdout",
          "text": "['The ', ' sat on the mat with another ', '.']\n",
          "output_type": "stream"
        }
      ],
      "execution_count": 8
    },
    {
      "cell_type": "code",
      "source": "print(re.findall(\"t\",to_text)) #How many times t occur in to_text.",
      "metadata": {
        "trusted": true
      },
      "outputs": [
        {
          "name": "stdout",
          "text": "['t', 't', 't', 't', 't', 't', 't']\n",
          "output_type": "stream"
        }
      ],
      "execution_count": 10
    },
    {
      "cell_type": "markdown",
      "source": "Regex Specification Standard -> Markup Language to describe patterns in text. Let's start with Anchors (specify the start and/or the end of string that you are trying to match. ^ (caret) means start and ($) means end. It means that text Regex retrieves.",
      "metadata": {}
    },
    {
      "cell_type": "code",
      "source": "re.search(\"^The\",to_text)#re.search() returns a new object re.Match() object",
      "metadata": {
        "trusted": true
      },
      "outputs": [
        {
          "execution_count": 15,
          "output_type": "execute_result",
          "data": {
            "text/plain": "<re.Match object; span=(0, 3), match='The'>"
          },
          "metadata": {}
        }
      ],
      "execution_count": 15
    },
    {
      "cell_type": "code",
      "source": "re.search(\"cat.$\",to_text)",
      "metadata": {
        "trusted": true
      },
      "outputs": [
        {
          "execution_count": 17,
          "output_type": "execute_result",
          "data": {
            "text/plain": "<re.Match object; span=(36, 40), match='cat.'>"
          },
          "metadata": {}
        }
      ],
      "execution_count": 17
    },
    {
      "cell_type": "markdown",
      "source": "#PATTERNS AND CHARACTER CLASSES",
      "metadata": {}
    },
    {
      "cell_type": "code",
      "source": "grade_list = \"ABCADAABCACCAAAAAABBDA\"",
      "metadata": {
        "trusted": true
      },
      "outputs": [],
      "execution_count": 35
    },
    {
      "cell_type": "markdown",
      "source": "Remember findall retrieves all occurences but what if we want to find occurence of two words say A and B in grade_list. We can't pass AB because it will count occurences of \"AB\" so we have to pass AB in square brackets.",
      "metadata": {}
    },
    {
      "cell_type": "code",
      "source": "re.findall(\"A\",grade_list)",
      "metadata": {
        "trusted": true
      },
      "outputs": [
        {
          "execution_count": 27,
          "output_type": "execute_result",
          "data": {
            "text/plain": "['A', 'A', 'A', 'A', 'A', 'A', 'A', 'A', 'A', 'A', 'A']"
          },
          "metadata": {}
        }
      ],
      "execution_count": 27
    },
    {
      "cell_type": "code",
      "source": "re.findall(\"[ABD]\",grade_list)",
      "metadata": {
        "trusted": true
      },
      "outputs": [
        {
          "execution_count": 28,
          "output_type": "execute_result",
          "data": {
            "text/plain": "['A',\n 'B',\n 'A',\n 'D',\n 'A',\n 'A',\n 'B',\n 'A',\n 'A',\n 'A',\n 'A',\n 'A',\n 'A',\n 'A',\n 'B',\n 'B',\n 'D']"
          },
          "metadata": {}
        }
      ],
      "execution_count": 28
    },
    {
      "cell_type": "code",
      "source": "re.findall(\"AB\",grade_list)",
      "metadata": {
        "trusted": true
      },
      "outputs": [
        {
          "execution_count": 29,
          "output_type": "execute_result",
          "data": {
            "text/plain": "['AB', 'AB', 'AB']"
          },
          "metadata": {}
        }
      ],
      "execution_count": 29
    },
    {
      "cell_type": "markdown",
      "source": "If we want to find a range of charcters alphanumerically using [a-z] to check for characters a to z.",
      "metadata": {}
    },
    {
      "cell_type": "code",
      "source": "re.findall(\"[A-C]\",grade_list)",
      "metadata": {
        "trusted": true
      },
      "outputs": [
        {
          "execution_count": 30,
          "output_type": "execute_result",
          "data": {
            "text/plain": "['A',\n 'B',\n 'C',\n 'A',\n 'A',\n 'A',\n 'B',\n 'C',\n 'A',\n 'C',\n 'C',\n 'A',\n 'A',\n 'A',\n 'A',\n 'A',\n 'A',\n 'B',\n 'B']"
          },
          "metadata": {}
        }
      ],
      "execution_count": 30
    },
    {
      "cell_type": "code",
      "source": "re.findall(\"[A][B-D]\",grade_list) #Check for all occurence where A is been followed by B,C,D.",
      "metadata": {
        "trusted": true
      },
      "outputs": [
        {
          "execution_count": 32,
          "output_type": "execute_result",
          "data": {
            "text/plain": "['AB', 'AD', 'AB', 'AC', 'AB']"
          },
          "metadata": {}
        }
      ],
      "execution_count": 32
    },
    {
      "cell_type": "code",
      "source": "#Pipe checks AB|AC (AB or AC)\nre.findall(\"BD|DA\",grade_list)",
      "metadata": {
        "trusted": true
      },
      "outputs": [
        {
          "execution_count": 36,
          "output_type": "execute_result",
          "data": {
            "text/plain": "['DA', 'BD']"
          },
          "metadata": {}
        }
      ],
      "execution_count": 36
    },
    {
      "cell_type": "code",
      "source": "# We can use set operator to negate the result.\nprint(re.findall(\"[^A]\",grade_list)) #We get not A's",
      "metadata": {
        "trusted": true
      },
      "outputs": [
        {
          "name": "stdout",
          "text": "['B', 'C', 'D', 'B', 'C', 'C', 'C', 'B', 'B', 'D']\n",
          "output_type": "stream"
        }
      ],
      "execution_count": 39
    },
    {
      "cell_type": "markdown",
      "source": "<h2>QUANTIFIERS</h2>",
      "metadata": {}
    },
    {
      "cell_type": "markdown",
      "source": "Quantifiers are the number of times you want to pattern to be matched in order to actually count as a match. The most basic quantifiers, the expression of E, curly brace M, N curly brace, where E is the expression or character we're matching, M is the minimum number of times you want it to be matched, and N is the maximum number of times the item could be matched. ",
      "metadata": {}
    },
    {
      "cell_type": "code",
      "source": "re.findall(\"A{2,10}\",grade_list) #We want min 2A streak and max 10A streak.",
      "metadata": {
        "trusted": true
      },
      "outputs": [
        {
          "execution_count": 41,
          "output_type": "execute_result",
          "data": {
            "text/plain": "['AA', 'AAAAAA']"
          },
          "metadata": {}
        }
      ],
      "execution_count": 41
    },
    {
      "cell_type": "code",
      "source": "#Using Single Values -> Checking for it back to back\nre.findall(\"A{1,1}A{1,1}\",grade_list)",
      "metadata": {
        "trusted": true
      },
      "outputs": [
        {
          "execution_count": 43,
          "output_type": "execute_result",
          "data": {
            "text/plain": "['AA', 'AA', 'AA', 'AA']"
          },
          "metadata": {}
        }
      ],
      "execution_count": 43
    },
    {
      "cell_type": "code",
      "source": "#Let's load some data from wikipedia to look at other quantifiers.\nwith open(\"vishy.txt\",\"r\") as file:\n    vishy = file.read()\nvishy",
      "metadata": {
        "trusted": true
      },
      "outputs": [
        {
          "execution_count": 44,
          "output_type": "execute_result",
          "data": {
            "text/plain": "'Viswanathan \"Vishy\" Anand (born 11 December 1969) is an Indian chess grandmaster, a former five-time World Chess Champion[2] and a record two-time Chess World Cup Champion.[3] He became the first grandmaster from India in 1988, and he has the eighth-highest peak FIDE rating of all time.[4] In 2022, he was elected the deputy president of FIDE.Anand defeated Alexei Shirov in a six-game match to win the 2000 FIDE World Chess Championship, a title he held until 2002. He became the undisputed world champion in 2007 and defended his title against Vladimir Kramnik in 2008, Veselin Topalov in 2010, and Boris Gelfand in 2012.In 2013, he lost the title to challenger Magnus Carlsen, and he lost a rematch to Carlsen in 2014 after winning the 2014 Candidates Tournament.'"
          },
          "metadata": {}
        }
      ],
      "execution_count": 44
    },
    {
      "cell_type": "code",
      "source": "#Remaining Regex In Case If It is Required ",
      "metadata": {
        "trusted": true
      },
      "outputs": [],
      "execution_count": null
    }
  ]
}