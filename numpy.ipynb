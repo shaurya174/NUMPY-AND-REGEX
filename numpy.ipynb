{
  "metadata": {
    "kernelspec": {
      "name": "python",
      "display_name": "Python (Pyodide)",
      "language": "python"
    },
    "language_info": {
      "codemirror_mode": {
        "name": "python",
        "version": 3
      },
      "file_extension": ".py",
      "mimetype": "text/x-python",
      "name": "python",
      "nbconvert_exporter": "python",
      "pygments_lexer": "ipython3",
      "version": "3.8"
    }
  },
  "nbformat_minor": 4,
  "nbformat": 4,
  "cells": [
    {
      "cell_type": "markdown",
      "source": "What is Numpy?\nAns It is a python package for numeric computing.It provides powerful ways to create store and manipulate data, which makes it able to seamlessly and speedily integrate with a wide variety of databases and data formats. This is also the foundation that Pandas is built on which is a high performance data-centric package that we're going to learn more about in this course. In this lecture, we're going to talk about creating arrays with certain data types, manipulating arrays ,selecting elements from arrays and loading data sets into arrays.",
      "metadata": {}
    },
    {
      "cell_type": "code",
      "source": "#Importing Numpy\nimport numpy as np",
      "metadata": {
        "trusted": true
      },
      "outputs": [],
      "execution_count": 2
    },
    {
      "cell_type": "code",
      "source": "#Creating Array -> Pass List As an argument\n#Array -> It is a list or list of lists.",
      "metadata": {
        "trusted": true
      },
      "outputs": [],
      "execution_count": 4
    },
    {
      "cell_type": "code",
      "source": "#1D ARRAY -> List\narr1 = np.array([1,2,3,4])\nprint(arr1)\nprint(arr1.ndim) #ndim attribute print dimension of array.",
      "metadata": {
        "trusted": true
      },
      "outputs": [
        {
          "name": "stdout",
          "text": "[1 2 3 4]\n1\n",
          "output_type": "stream"
        }
      ],
      "execution_count": 5
    },
    {
      "cell_type": "code",
      "source": "#Multi-Dimensional ARRAY -> List Of lists -> Matrix\narr2 = np.array([[1,2,3],[4,5,6]])\nprint(arr2)\nprint(arr2.ndim)",
      "metadata": {
        "trusted": true
      },
      "outputs": [
        {
          "name": "stdout",
          "text": "[[1 2 3]\n [4 5 6]]\n2\n",
          "output_type": "stream"
        }
      ],
      "execution_count": 6
    },
    {
      "cell_type": "markdown",
      "source": "Other Numpy Function -> shape and dtype",
      "metadata": {}
    },
    {
      "cell_type": "code",
      "source": "#Shape -> Check dimensions of array and gives a tuple\nprint(arr2.shape)\nprint(type(arr2.shape))",
      "metadata": {
        "trusted": true
      },
      "outputs": [
        {
          "name": "stdout",
          "text": "(2, 3)\n<class 'tuple'>\n",
          "output_type": "stream"
        }
      ],
      "execution_count": 7
    },
    {
      "cell_type": "code",
      "source": "#dtype -> Gives Type Of Items Stored In Array\nprint(arr2.dtype)",
      "metadata": {
        "trusted": true
      },
      "outputs": [
        {
          "name": "stdout",
          "text": "int32\n",
          "output_type": "stream"
        }
      ],
      "execution_count": 8
    },
    {
      "cell_type": "markdown",
      "source": "Important Note -> Numpy will try and give you the best data type format possible to keep your data types homogeneous, which means that they're all the same in the array. ",
      "metadata": {}
    },
    {
      "cell_type": "markdown",
      "source": "Sometimes we know the shape of an array that we want to create, but not what we want to be in it. None by offer several functions, to create arrays with initial placeholders ",
      "metadata": {}
    },
    {
      "cell_type": "code",
      "source": "#Placeholder - 0\narr3 = np.zeros((2,3))\nprint(arr3)",
      "metadata": {
        "trusted": true
      },
      "outputs": [
        {
          "name": "stdout",
          "text": "[[0. 0. 0.]\n [0. 0. 0.]]\n",
          "output_type": "stream"
        }
      ],
      "execution_count": 9
    },
    {
      "cell_type": "code",
      "source": "#Placeholder - 1\narr4 = np.ones((3,2))\nprint(arr4)",
      "metadata": {
        "trusted": true
      },
      "outputs": [
        {
          "name": "stdout",
          "text": "[[1. 1.]\n [1. 1.]\n [1. 1.]]\n",
          "output_type": "stream"
        }
      ],
      "execution_count": 10
    },
    {
      "cell_type": "code",
      "source": "#Placeholder - Random Values\narr5 = np.random.rand(5,4)\nprint(arr5)",
      "metadata": {
        "trusted": true
      },
      "outputs": [
        {
          "name": "stdout",
          "text": "[[0.66957561 0.99790572 0.27594304 0.34282589]\n [0.53000292 0.79332547 0.5812059  0.28434379]\n [0.17223717 0.84403019 0.90948249 0.04095247]\n [0.43558485 0.38667206 0.38492673 0.14387289]\n [0.16758718 0.19257889 0.76805715 0.88188009]]\n",
          "output_type": "stream"
        }
      ],
      "execution_count": 11
    },
    {
      "cell_type": "markdown",
      "source": "Create Arrays as a list of numbers / sequence using arrange function",
      "metadata": {}
    },
    {
      "cell_type": "code",
      "source": "#Array with multiples of 5 -> arrange(L.B(Inclusive),U.B(Exclusive),Diff)",
      "metadata": {
        "trusted": true
      },
      "outputs": [],
      "execution_count": 12
    },
    {
      "cell_type": "code",
      "source": "arr6 = np.arange(5,50,5)\nprint(arr6)\nprint(arr6.shape)",
      "metadata": {
        "trusted": true
      },
      "outputs": [
        {
          "name": "stdout",
          "text": "[ 5 10 15 20 25 30 35 40 45]\n(9,)\n",
          "output_type": "stream"
        }
      ],
      "execution_count": 13
    },
    {
      "cell_type": "markdown",
      "source": "Linspace -> Generate a seuence of floats diff from arange is that its 3rd argument is no. of items you want to generate",
      "metadata": {}
    },
    {
      "cell_type": "code",
      "source": "arr7 = np.linspace(1,2,25) # Generate 25 floating point numbers\nprint(arr7)",
      "metadata": {
        "trusted": true
      },
      "outputs": [
        {
          "name": "stdout",
          "text": "[1.         1.04166667 1.08333333 1.125      1.16666667 1.20833333\n 1.25       1.29166667 1.33333333 1.375      1.41666667 1.45833333\n 1.5        1.54166667 1.58333333 1.625      1.66666667 1.70833333\n 1.75       1.79166667 1.83333333 1.875      1.91666667 1.95833333\n 2.        ]\n",
          "output_type": "stream"
        }
      ],
      "execution_count": 14
    },
    {
      "cell_type": "markdown",
      "source": " # ARRAY OPERATIONS",
      "metadata": {}
    },
    {
      "cell_type": "markdown",
      "source": "Operations On Array -> \ni) Mathematical Manipulation -> Addition,Subtraction,Exponent,Square,Boolean Array(Binary Values)\nii) Matrix Manipulation -> product,transpose,inverse",
      "metadata": {}
    },
    {
      "cell_type": "markdown",
      "source": "Arithmetic Operations -> +,-,*,/ -> Elt. Otherwise",
      "metadata": {}
    },
    {
      "cell_type": "code",
      "source": "#Addition\nt1 = np.array([1,2,3,4])\nt2 = np.array([5,6,7,8])\nt3 = t1 + t2\nprint(t3)",
      "metadata": {
        "trusted": true
      },
      "outputs": [
        {
          "name": "stdout",
          "text": "[ 6  8 10 12]\n",
          "output_type": "stream"
        }
      ],
      "execution_count": 3
    },
    {
      "cell_type": "code",
      "source": "#Subtraction,Multiplication and Divison\nt4 = t1-t2\nt5 = t1*t2\nt6 = t1/t2\nprint(t4)\nprint(t5)\nprint(t6)",
      "metadata": {
        "trusted": true
      },
      "outputs": [
        {
          "name": "stdout",
          "text": "[-4 -4 -4 -4]\n[ 5 12 21 32]\n[0.2        0.33333333 0.42857143 0.5       ]\n",
          "output_type": "stream"
        }
      ],
      "execution_count": 5
    },
    {
      "cell_type": "code",
      "source": "t10 = np.array([[1],[2],[3]])\nprint(t10*t2)",
      "metadata": {
        "trusted": true
      },
      "outputs": [
        {
          "name": "stdout",
          "text": "[[ 5  6  7  8]\n [10 12 14 16]\n [15 18 21 24]]\n",
          "output_type": "stream"
        }
      ],
      "execution_count": 7
    },
    {
      "cell_type": "markdown",
      "source": "#Arithmetic manipulation, we can convert current data to the way we want it to be. So here's a real world problem that I faced. I moved down to the United States about six years ago from Canada. In Canada, we use Celsius for temperatures and my wife still hasn't converted to the US system, which uses Fahrenheit. With numpy I could easily convert a number of Fahrenheit values, say, the weather forecast to Celsius for her. So, let's create an array of typical Ann Arbor winter Fahrenheit values. So, fahrenheit equals np.array and sometimes it'll be zero degrees Fahrenheit, may be minus 10 minus 5 minus 15 or 0.",
      "metadata": {}
    },
    {
      "cell_type": "code",
      "source": "farenheit = np.array([0,-10,-15,-5,0])\ncelsius = ((farenheit-32)*5)/9\nprint(celsius)",
      "metadata": {
        "trusted": true
      },
      "outputs": [
        {
          "name": "stdout",
          "text": "[-17.77777778 -23.33333333 -26.11111111 -20.55555556 -17.77777778]\n",
          "output_type": "stream"
        }
      ],
      "execution_count": 9
    },
    {
      "cell_type": "raw",
      "source": "#Another useful and important manipulation is the Boolean array. We can apply an operator on an array and a Boolean array will be returned for any element in the original with true being emitted if it meets the condition. For instance, if we want to get a Boolean array to check the Celsius degrees that are greater than minus 20 degrees, we will just say Celsius is greater than minus 20. ",
      "metadata": {}
    },
    {
      "cell_type": "code",
      "source": "#Boolean Array -> Return True If Condition is True And False If Condition is false (w.r.t elt)",
      "metadata": {
        "trusted": true
      },
      "outputs": [],
      "execution_count": null
    },
    {
      "cell_type": "code",
      "source": "celsius > -20",
      "metadata": {
        "trusted": true
      },
      "outputs": [
        {
          "execution_count": 10,
          "output_type": "execute_result",
          "data": {
            "text/plain": "array([ True, False, False, False,  True])"
          },
          "metadata": {}
        }
      ],
      "execution_count": 10
    },
    {
      "cell_type": "markdown",
      "source": "Check Odd or Even In An Array",
      "metadata": {}
    },
    {
      "cell_type": "code",
      "source": "nums = np.array([1,2,3,467,32])\nnums % 2 == 0",
      "metadata": {
        "trusted": true
      },
      "outputs": [
        {
          "execution_count": 15,
          "output_type": "execute_result",
          "data": {
            "text/plain": "array([False,  True, False, False,  True])"
          },
          "metadata": {}
        }
      ],
      "execution_count": 15
    },
    {
      "cell_type": "code",
      "source": "#Matrix Manipulation -> Do Operations With Matrix\n#Matrix Product",
      "metadata": {
        "trusted": true
      },
      "outputs": [],
      "execution_count": null
    },
    {
      "cell_type": "code",
      "source": "#We use @ sign for matrix product\nm1 = np.array([1,2,3])# 1 X 3 Matrix\nm2 = np.array([[1],[2],[3]]) # 3 X 1 Matrix\nprint(m1@m2)",
      "metadata": {
        "trusted": true
      },
      "outputs": [
        {
          "name": "stdout",
          "text": "[14]\n",
          "output_type": "stream"
        }
      ],
      "execution_count": 15
    },
    {
      "cell_type": "markdown",
      "source": "Recall that matrix multiplication is only possible when ineer dimensions of the matrix is same. \nEx -> 2 X 3 and 3 X 4 -> 2 X 4(Possible)\nEx -> 2 X 1 and 3 X 2 -> Not Possible",
      "metadata": {}
    },
    {
      "cell_type": "markdown",
      "source": "AGGREGATE FUNCTIONS ON MATRIX -> max(),min(),sum(),mean()",
      "metadata": {}
    },
    {
      "cell_type": "code",
      "source": "test_array = np.array([[1,2,3],[4,5,6]])\nprint(\"Sum ->\",test_array.sum())\nprint(\"Mean ->\",test_array.mean())\nprint(\"Max ->\",test_array.max())\nprint(\"Min ->\",test_array.min())",
      "metadata": {
        "trusted": true
      },
      "outputs": [
        {
          "name": "stdout",
          "text": "Sum -> 21\nMean -> 3.5\nMax -> 6\nMin -> 1\n",
          "output_type": "stream"
        }
      ],
      "execution_count": 17
    },
    {
      "cell_type": "code",
      "source": "#Create array with 15 elt ranging 1 to 15 in dimension of 3 X 5\nmy_arr=np.arange(1,16,1).reshape(3,5)#To change dimension to 3 X 5\nprint(my_arr)",
      "metadata": {
        "trusted": true
      },
      "outputs": [
        {
          "name": "stdout",
          "text": "[[ 1  2  3  4  5]\n [ 6  7  8  9 10]\n [11 12 13 14 15]]\n",
          "output_type": "stream"
        }
      ],
      "execution_count": 19
    },
    {
      "cell_type": "markdown",
      "source": "Numpy comes into play in something like images. For this demonstration, I'm going to use the Python Imaging Library, PIL and a function to display images in the Jupyter notebook",
      "metadata": {}
    },
    {
      "cell_type": "code",
      "source": "from PIL import Image #PIL -> Python Image Library\nfrom IPython.display import display #Func to display images",
      "metadata": {
        "trusted": true
      },
      "outputs": [],
      "execution_count": 21
    },
    {
      "cell_type": "code",
      "source": "#Image Manipulation can also be done through numpy arrays. (Not discussed) I'm quite busy with other things.",
      "metadata": {
        "trusted": true
      },
      "outputs": [],
      "execution_count": 25
    },
    {
      "cell_type": "markdown",
      "source": "#Indexing, Slicing And Iterating",
      "metadata": {}
    },
    {
      "cell_type": "markdown",
      "source": "<h1>>Importance -> Indexing, slicing and iterating are extremely important for data manipulation and analysis. Because these techniques allow us to select data based on conditions and copy or update the data. </h1>",
      "metadata": {}
    },
    {
      "cell_type": "code",
      "source": "#Indexing\n#In 1-D Arrays it works in same manner as lists.\nind_array = np.array([1,2,3,5,6])\nfor i in range(0,5):\n    print(\"Element At Index\",i,\"is\",ind_array[i])\n",
      "metadata": {
        "trusted": true
      },
      "outputs": [
        {
          "name": "stdout",
          "text": "Element At Index 0 is 1\nElement At Index 1 is 2\nElement At Index 2 is 3\nElement At Index 3 is 5\nElement At Index 4 is 6\n",
          "output_type": "stream"
        }
      ],
      "execution_count": 3
    },
    {
      "cell_type": "code",
      "source": "#In 2-D Arrays num[1,1] RowNo,ColNo",
      "metadata": {
        "trusted": true
      },
      "outputs": [],
      "execution_count": null
    },
    {
      "cell_type": "code",
      "source": "two_array = np.array([[1,2],[3,4],[5,6]])\nprint(two_array[0,1])",
      "metadata": {
        "trusted": true
      },
      "outputs": [
        {
          "name": "stdout",
          "text": "2\n",
          "output_type": "stream"
        }
      ],
      "execution_count": 5
    },
    {
      "cell_type": "markdown",
      "source": "#Boolean Indexing -> Boolean indexing allows us to select arbitrary elements based on conditions. ",
      "metadata": {}
    },
    {
      "cell_type": "code",
      "source": "sha_arr = np.array([[1,2],[3,4],[5,6]])\nmas_arr = sha_arr%2==0\nprint(mas_arr)",
      "metadata": {
        "trusted": true
      },
      "outputs": [
        {
          "name": "stdout",
          "text": "[[False  True]\n [False  True]\n [False  True]]\n",
          "output_type": "stream"
        }
      ],
      "execution_count": 6
    },
    {
      "cell_type": "code",
      "source": "print(sha_arr[mas_arr])#Will Return True Values Correspnding to original arr and mass arr in form of 1D Array.",
      "metadata": {
        "trusted": true
      },
      "outputs": [
        {
          "name": "stdout",
          "text": "[2 4 6]\n",
          "output_type": "stream"
        }
      ],
      "execution_count": 9
    },
    {
      "cell_type": "markdown",
      "source": "#Slicing -> In 1-D arr, it works same as lists (Use the : )",
      "metadata": {}
    },
    {
      "cell_type": "code",
      "source": "sli_arr = np.array([1,2,3,4])\nprint(sli_arr[:3])# 0 1 2 index ",
      "metadata": {
        "trusted": true
      },
      "outputs": [
        {
          "name": "stdout",
          "text": "[1 2 3]\n",
          "output_type": "stream"
        }
      ],
      "execution_count": 11
    },
    {
      "cell_type": "markdown",
      "source": "#Slicing In Case Of Multi Dimensional Arrays",
      "metadata": {}
    },
    {
      "cell_type": "code",
      "source": "two_d_arr = np.arange(1,16,1).reshape(3,5)\nprint(two_d_arr)",
      "metadata": {
        "trusted": true
      },
      "outputs": [
        {
          "name": "stdout",
          "text": "[[ 1  2  3  4  5]\n [ 6  7  8  9 10]\n [11 12 13 14 15]]\n",
          "output_type": "stream"
        }
      ],
      "execution_count": 14
    },
    {
      "cell_type": "code",
      "source": "# :3 row 0 and row 1 and row 2 will be printed",
      "metadata": {
        "trusted": true
      },
      "outputs": [],
      "execution_count": null
    },
    {
      "cell_type": "code",
      "source": "two_d_arr[:2] #Oth And 1th Row",
      "metadata": {
        "trusted": true
      },
      "outputs": [
        {
          "execution_count": 16,
          "output_type": "execute_result",
          "data": {
            "text/plain": "array([[ 1,  2,  3,  4,  5],\n       [ 6,  7,  8,  9, 10]])"
          },
          "metadata": {}
        }
      ],
      "execution_count": 16
    },
    {
      "cell_type": "code",
      "source": "# Second argument a:b column a to b(exclusive)\ntwo_d_arr[1:2,2:3]",
      "metadata": {
        "trusted": true
      },
      "outputs": [
        {
          "execution_count": 17,
          "output_type": "execute_result",
          "data": {
            "text/plain": "array([[8]])"
          },
          "metadata": {}
        }
      ],
      "execution_count": 17
    },
    {
      "cell_type": "code",
      "source": "#If you modify a specific elt then original value will be chnaged (mutable)\n#Q -> Change 13 to 17 in two_d_arr",
      "metadata": {
        "trusted": true
      },
      "outputs": [],
      "execution_count": null
    },
    {
      "cell_type": "code",
      "source": "#Ans \ntwo_d_arr[2:3,2:3]=17\nprint(two_d_arr)",
      "metadata": {
        "trusted": true
      },
      "outputs": [
        {
          "name": "stdout",
          "text": "[[ 1  2  3  4  5]\n [ 6  7  8  9 10]\n [11 12 17 14 15]]\n",
          "output_type": "stream"
        }
      ],
      "execution_count": 18
    },
    {
      "cell_type": "code",
      "source": "Trying Numpy With Data Sets",
      "metadata": {
        "trusted": true
      },
      "outputs": [],
      "execution_count": null
    },
    {
      "cell_type": "code",
      "source": "#We are going to take example of rohit.csv in which his stats has been given like avg,runs,100s,matches.50s",
      "metadata": {
        "trusted": true
      },
      "outputs": [],
      "execution_count": null
    },
    {
      "cell_type": "markdown",
      "source": "To load a dataset into numpy, we can use the genfrom text function. We can specify data file name, the delimiter which is optional but we often use it and the number of rows to skip if we have a header row.",
      "metadata": {}
    },
    {
      "cell_type": "markdown",
      "source": "the genfrom text function has a parameter called d-type for specifying data types for each column and this parameter is optional. Without specifying the type, all types will be casted to a more general or precise type. So there will be some inference done.",
      "metadata": {}
    },
    {
      "cell_type": "code",
      "source": "records_of_hitman = np.genfromtxt(\"rohit.csv\", delimiter=\",\", skip_header=1)",
      "metadata": {
        "trusted": true
      },
      "outputs": [],
      "execution_count": 9
    },
    {
      "cell_type": "code",
      "source": "records_of_hitman",
      "metadata": {
        "trusted": true
      },
      "outputs": [
        {
          "execution_count": 8,
          "output_type": "execute_result",
          "data": {
            "text/plain": "array([[5.802e+01, 5.135e+01, 4.826e+01, 4.593e+01, 3.776e+01],\n       [2.379e+03, 8.730e+02, 7.240e+02, 2.021e+03, 9.820e+02],\n       [8.000e+00, 2.000e+00, 2.000e+00, 6.000e+00, 2.000e+00],\n       [4.500e+01, 1.900e+01, 2.000e+01, 5.500e+01, 2.900e+01],\n       [9.000e+00, 8.000e+00, 4.000e+00, 9.000e+00, 5.000e+00]])"
          },
          "metadata": {}
        }
      ],
      "execution_count": 8
    },
    {
      "cell_type": "code",
      "source": "#Converting Into Readable Values\nnp.set_printoptions(suppress=True)",
      "metadata": {
        "trusted": true
      },
      "outputs": [],
      "execution_count": 10
    },
    {
      "cell_type": "code",
      "source": "records_of_hitman",
      "metadata": {
        "trusted": true
      },
      "outputs": [
        {
          "execution_count": 11,
          "output_type": "execute_result",
          "data": {
            "text/plain": "array([[  58.02,   51.35,   48.26,   45.93,   37.76],\n       [2379.  ,  873.  ,  724.  , 2021.  ,  982.  ],\n       [   8.  ,    2.  ,    2.  ,    6.  ,    2.  ],\n       [  45.  ,   19.  ,   20.  ,   55.  ,   29.  ],\n       [   9.  ,    8.  ,    4.  ,    9.  ,    5.  ]])"
          },
          "metadata": {}
        }
      ],
      "execution_count": 11
    },
    {
      "cell_type": "code",
      "source": "#If we want to access 1st Column\n#i) All rows combined but only first Column\nprint(records_of_hitman[:,0])",
      "metadata": {
        "trusted": true
      },
      "outputs": [
        {
          "name": "stdout",
          "text": "[  58.02 2379.      8.     45.      9.  ]\n",
          "output_type": "stream"
        }
      ],
      "execution_count": 12
    },
    {
      "cell_type": "code",
      "source": "#ii) In Separate Rows\nprint(records_of_hitman[:,0:1])",
      "metadata": {
        "trusted": true
      },
      "outputs": [
        {
          "name": "stdout",
          "text": "[[  58.02]\n [2379.  ]\n [   8.  ]\n [  45.  ]\n [   9.  ]]\n",
          "output_type": "stream"
        }
      ],
      "execution_count": 13
    },
    {
      "cell_type": "markdown",
      "source": "#What if we want several non-consecutive columns? Well, we can place the indices of the columns that we want into an array and past that array as the second argument. ",
      "metadata": {}
    },
    {
      "cell_type": "code",
      "source": "print(records_of_hitman[:,[0,1,3]])",
      "metadata": {
        "trusted": true
      },
      "outputs": [
        {
          "name": "stdout",
          "text": "[[  58.02   51.35   45.93]\n [2379.    873.   2021.  ]\n [   8.      2.      6.  ]\n [  45.     19.     55.  ]\n [   9.      8.      9.  ]]\n",
          "output_type": "stream"
        }
      ],
      "execution_count": 14
    },
    {
      "cell_type": "code",
      "source": "#Suppose , we want to calculate total average of Rohit Sharma (First Row)",
      "metadata": {
        "trusted": true
      },
      "outputs": [],
      "execution_count": null
    },
    {
      "cell_type": "code",
      "source": "print(records_of_hitman[0].mean())",
      "metadata": {
        "trusted": true
      },
      "outputs": [
        {
          "name": "stdout",
          "text": "48.263999999999996\n",
          "output_type": "stream"
        }
      ],
      "execution_count": 15
    },
    {
      "cell_type": "code",
      "source": "report = np.genfromtxt('report.csv',dtype=None,delimiter=',',skip_header=1,names=('ID','Math Score','Science Score','English Score','Attendance'))",
      "metadata": {
        "trusted": true
      },
      "outputs": [],
      "execution_count": 16
    },
    {
      "cell_type": "code",
      "source": "report",
      "metadata": {
        "trusted": true
      },
      "outputs": [
        {
          "execution_count": 17,
          "output_type": "execute_result",
          "data": {
            "text/plain": "array([( 1, 78.5, 85. , 92.3, 95), ( 2, 82.3, 74.6, 89.1, 90),\n       ( 3, 69.8, 80.2, 87.5, 85), ( 4, 88.1, 92.3, 79.9, 98),\n       ( 5, 74.4, 65.2, 91.3, 93), ( 6, 90.2, 88.4, 85. , 97),\n       ( 7, 67.5, 70.1, 76.2, 88), ( 8, 79.3, 84.6, 82.4, 92),\n       ( 9, 85.7, 89.9, 91. , 96), (10, 71.6, 78.5, 80.9, 87)],\n      dtype=[('ID', '<i4'), ('Math_Score', '<f8'), ('Science_Score', '<f8'), ('English_Score', '<f8'), ('Attendance', '<i4')])"
          },
          "metadata": {}
        }
      ],
      "execution_count": 17
    },
    {
      "cell_type": "code",
      "source": "report.shape #We are getting 10 tuples.",
      "metadata": {
        "trusted": true
      },
      "outputs": [
        {
          "execution_count": 19,
          "output_type": "execute_result",
          "data": {
            "text/plain": "(10,)"
          },
          "metadata": {}
        }
      ],
      "execution_count": 19
    },
    {
      "cell_type": "code",
      "source": "#Let's Print Math Scores Of All Students With Their Id OF FIRST 5 STUDENTS\nprint('STUDNET ID ->',report['ID'][:5])",
      "metadata": {
        "trusted": true
      },
      "outputs": [
        {
          "name": "stdout",
          "text": "STUDNET ID -> [1 2 3 4 5]\n",
          "output_type": "stream"
        }
      ],
      "execution_count": 22
    },
    {
      "cell_type": "code",
      "source": "#If we want maths marks by percentage we will divide it by total marks(95) and multiplying by 100",
      "metadata": {
        "trusted": true
      },
      "outputs": [],
      "execution_count": null
    },
    {
      "cell_type": "code",
      "source": "report['Math_Score']=report['Math_Score']*(100/95)\nreport['Math_Score']",
      "metadata": {
        "trusted": true
      },
      "outputs": [
        {
          "execution_count": 24,
          "output_type": "execute_result",
          "data": {
            "text/plain": "array([82.63157895, 86.63157895, 73.47368421, 92.73684211, 78.31578947,\n       94.94736842, 71.05263158, 83.47368421, 90.21052632, 75.36842105])"
          },
          "metadata": {}
        }
      ],
      "execution_count": 24
    },
    {
      "cell_type": "markdown",
      "source": "<h1>END OF NUMPY</h1>",
      "metadata": {}
    },
    {
      "cell_type": "code",
      "source": "",
      "metadata": {
        "trusted": true
      },
      "outputs": [],
      "execution_count": null
    }
  ]
}